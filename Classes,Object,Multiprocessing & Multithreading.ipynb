{
 "cells": [
  {
   "cell_type": "markdown",
   "id": "b46abcd5",
   "metadata": {},
   "source": [
    "# Class Syntax"
   ]
  },
  {
   "cell_type": "code",
   "execution_count": 28,
   "id": "8919ff62",
   "metadata": {},
   "outputs": [
    {
     "ename": "SyntaxError",
     "evalue": "invalid syntax (3118262701.py, line 2)",
     "output_type": "error",
     "traceback": [
      "\u001b[1;36m  Cell \u001b[1;32mIn[28], line 2\u001b[1;36m\u001b[0m\n\u001b[1;33m    def__init__(self, name, age):\u001b[0m\n\u001b[1;37m                                ^\u001b[0m\n\u001b[1;31mSyntaxError\u001b[0m\u001b[1;31m:\u001b[0m invalid syntax\n"
     ]
    }
   ],
   "source": [
    "class Person:\n",
    "    def__init__(self, name, age):\n",
    "    self.name = name\n",
    "    self.age = age\n",
    "    p1 = person(\"Ganesh\", 36)\n",
    "    print(p1.name)\n",
    "    print(p1.age)"
   ]
  },
  {
   "cell_type": "markdown",
   "id": "aa5bfaa6",
   "metadata": {},
   "source": [
    "# Object Methods"
   ]
  },
  {
   "cell_type": "code",
   "execution_count": 29,
   "id": "52aaacd4",
   "metadata": {},
   "outputs": [
    {
     "name": "stdout",
     "output_type": "stream",
     "text": [
      "The number of students: 3\n"
     ]
    }
   ],
   "source": [
    "class Student:    \n",
    "    count = 0    \n",
    "    def __init__(self):    \n",
    "        Student.count = Student.count + 1    \n",
    "s1=Student()    \n",
    "s2=Student()    \n",
    "s3=Student()    \n",
    "print(\"The number of students:\",Student.count)    "
   ]
  },
  {
   "cell_type": "markdown",
   "id": "49ae9d3c",
   "metadata": {},
   "source": [
    "# Python Non-Parameterized Constructor"
   ]
  },
  {
   "cell_type": "code",
   "execution_count": 30,
   "id": "1bf921ef",
   "metadata": {},
   "outputs": [
    {
     "name": "stdout",
     "output_type": "stream",
     "text": [
      "This is non parametrized constructor\n",
      "Hello John\n"
     ]
    }
   ],
   "source": [
    "class Student:  \n",
    "    # Constructor - non parameterized  \n",
    "    def __init__(self):  \n",
    "        print(\"This is non parametrized constructor\")  \n",
    "    def show(self,name):  \n",
    "        print(\"Hello\",name)  \n",
    "student = Student()  \n",
    "student.show(\"John\")"
   ]
  },
  {
   "cell_type": "markdown",
   "id": "e0926b1b",
   "metadata": {},
   "source": [
    "# Python Parameterized Constructor"
   ]
  },
  {
   "cell_type": "code",
   "execution_count": 31,
   "id": "d7dde1ab",
   "metadata": {},
   "outputs": [
    {
     "name": "stdout",
     "output_type": "stream",
     "text": [
      "This is parametrized constructor\n",
      "Hello John\n"
     ]
    }
   ],
   "source": [
    "class Student:  \n",
    "    # Constructor - parameterized  \n",
    "    def __init__(self, name):  \n",
    "        print(\"This is parametrized constructor\")  \n",
    "        self.name = name  \n",
    "    def show(self):  \n",
    "        print(\"Hello\",self.name)  \n",
    "student = Student(\"John\")  \n",
    "student.show()    "
   ]
  },
  {
   "cell_type": "markdown",
   "id": "66ee6c0a",
   "metadata": {},
   "source": [
    "# What is multiprocessing?\n",
    "\n",
    "\"Multiprocessing refers to the ability of a system to support more than one processor at the same time\"\n",
    "\n",
    "A multiprocessing system can have:\n",
    "\n",
    "multiprocessor, i.e. a computer with more than one central processor.\n",
    "multi-core processor, i.e. a single computing component with two or more independent actual processing units (called “cores”)"
   ]
  },
  {
   "cell_type": "code",
   "execution_count": 35,
   "id": "ba61a975",
   "metadata": {},
   "outputs": [
    {
     "name": "stdout",
     "output_type": "stream",
     "text": [
      "Done in 0.0110 seconds\n"
     ]
    }
   ],
   "source": [
    "import multiprocessing\n",
    "import time\n",
    "def sleepy_man():\n",
    "    print('Starting to sleep')\n",
    "    time.sleep(1)\n",
    "    print('Done sleeping')\n",
    "\n",
    "tic = time.time()\n",
    "p1 =  multiprocessing.Process(target= sleepy_man)\n",
    "p2 =  multiprocessing.Process(target= sleepy_man)\n",
    "p1.start()\n",
    "p2.start()\n",
    "toc = time.time()\n",
    "\n",
    "\n",
    "print('Done in {:.4f} seconds'.format(toc-tic))"
   ]
  },
  {
   "cell_type": "markdown",
   "id": "bf66d95e",
   "metadata": {},
   "source": [
    "#  What is the difference between multithreading and multiprocessing in Python?"
   ]
  },
  {
   "cell_type": "code",
   "execution_count": null,
   "id": "1e9598e6",
   "metadata": {},
   "outputs": [],
   "source": [
    "1) While in Multithreading, a common address space is shared by all the threads.\n",
    "\n",
    "2) In Multiprocessing, Many processes are executed simultaneously.\n",
    "\n",
    "3) Multiprocessing are classified into Symmetric and Asymmetric.\n",
    "\n",
    "4) In Multiprocessing, Process creation is a time-consuming process.\n",
    "\n",
    "A) While In Multithreading, many threads are created of a single process for increasing computing power.\n",
    "\n",
    "B) While in multithreading, many threads of a process are executed simultaneously.\n",
    "\n",
    "C) While Multithreading is not classified in any categories.\n",
    "\n",
    "D) While in Multithreading, process creation is according to economical."
   ]
  },
  {
   "cell_type": "markdown",
   "id": "ab30337e",
   "metadata": {},
   "source": [
    "# What is multithreading?\n",
    "\n",
    "\"Multithreading is defined as the ability of a processor to execute multiple threads concurrently. In a simple, single-core CPU, it is achieved using frequent switching between threads.\""
   ]
  },
  {
   "cell_type": "code",
   "execution_count": 39,
   "id": "e950d5a5",
   "metadata": {},
   "outputs": [
    {
     "name": "stdout",
     "output_type": "stream",
     "text": [
      "Square: 100\n",
      "Cube: 1000\n",
      "Done!\n"
     ]
    }
   ],
   "source": [
    "import threading\n",
    " \n",
    " \n",
    "def print_cube(num):\n",
    "    print(\"Cube: {}\" .format(num * num * num))\n",
    " \n",
    " \n",
    "def print_square(num):\n",
    "    print(\"Square: {}\" .format(num * num))\n",
    " \n",
    " \n",
    "if __name__ ==\"__main__\":\n",
    "    t1 = threading.Thread(target=print_square, args=(10,))\n",
    "    t2 = threading.Thread(target=print_cube, args=(10,))\n",
    " \n",
    "    t1.start()\n",
    "    t2.start()\n",
    " \n",
    "    t1.join()\n",
    "    t2.join()\n",
    " \n",
    "    print(\"Done!\")"
   ]
  },
  {
   "cell_type": "code",
   "execution_count": null,
   "id": "b19f00bc",
   "metadata": {},
   "outputs": [],
   "source": []
  }
 ],
 "metadata": {
  "kernelspec": {
   "display_name": "Python 3 (ipykernel)",
   "language": "python",
   "name": "python3"
  },
  "language_info": {
   "codemirror_mode": {
    "name": "ipython",
    "version": 3
   },
   "file_extension": ".py",
   "mimetype": "text/x-python",
   "name": "python",
   "nbconvert_exporter": "python",
   "pygments_lexer": "ipython3",
   "version": "3.11.3"
  }
 },
 "nbformat": 4,
 "nbformat_minor": 5
}
